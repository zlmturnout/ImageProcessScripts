{
 "cells": [
  {
   "cell_type": "code",
   "execution_count": 21,
   "metadata": {},
   "outputs": [],
   "source": [
    "from PIL import Image\n",
    "import os,sys,time,re,json\n",
    "\n",
    "def get_prompt_png(png_file:str):\n",
    "    if os.path.isfile(png_file) and png_file.endswith('png'):\n",
    "        im = Image.open(png_file)\n",
    "        im.load()  # Needed only for .png EXIF data (see citation above)\n",
    "        parameters=im.info.get('parameters',None)\n",
    "        png_info_dict={\"filename\":png_file,\"input_prompt\":None,\"negative_prompt\":None}\n",
    "        png_para_dict={}\n",
    "        if parameters:\n",
    "            input_paras=parameters.split('\\n')\n",
    "            png_info_dict[\"input_prompt\"]=input_paras[0]\n",
    "            png_info_dict[\"negative_prompt\"]=re.match(r'Negative prompt[:](.*)',input_paras[1]).group(1)\n",
    "            png_para_dict=text_to_dict(input_paras[-1])\n",
    "        png_info_dict.update(png_para_dict)\n",
    "        png_info_dict[\"postprocessing\"]=im.info.get('postprocessing',None)\n",
    "        png_info_dict[\"extras\"]=im.info.get('extras',None)\n",
    "        png_info_dict[\"width\"],png_info_dict[\"height\"]=im.width,im.height\n",
    "        \n",
    "    return png_info_dict\n",
    "\n",
    "def text_to_dict(text:str):\n",
    "    \"\"\"transform a text to dict data\n",
    "    text_form=Steps: 20, Sampler: DPM++ 2S a, CFG scale: 7, Seed: 123839547, Face restoration: CodeFormer, Size: 512x768, Model hash: fc2511737a,\n",
    "    Args:\n",
    "        text (str): _description_\n",
    "    \"\"\"\n",
    "    sep_text=text.split(', ')\n",
    "    text_info_dict={}\n",
    "    for item in sep_text:\n",
    "        key=item.split(': ')[0]\n",
    "        vars=item.split(': ')[-1]\n",
    "        text_info_dict[key]=vars\n",
    "    return text_info_dict\n",
    "\n",
    "def comfy_ui_png_info(png_file:str):\n",
    "    if os.path.isfile(png_file) and png_file.endswith('png'):\n",
    "        im = Image.open(png_file)\n",
    "        im.load()  # Needed only for .png EXIF data (see citation above)\n",
    "        prompt_json=json.loads(im.info.get('prompt',None))\n",
    "        workflow_json=json.loads(im.info.get('workflow',None))\n",
    "        # for comfy ui 2x \n",
    "        if '8' in prompt_json.keys():\n",
    "            pos_prompt=prompt_json['8']['inputs']['positive']\n",
    "            neg_prompt=prompt_json['8']['inputs']['negative']\n",
    "            model=prompt_json['8']['inputs']['base_ckpt_name']\n",
    "        elif '4' in prompt_json.keys():\n",
    "            pos_prompt=prompt_json['4']['inputs']['positive']\n",
    "            neg_prompt=prompt_json['4']['inputs']['negative']\n",
    "            model=prompt_json['4']['inputs']['base_ckpt_name']\n",
    "        return model,pos_prompt,neg_prompt"
   ]
  },
  {
   "cell_type": "code",
   "execution_count": 22,
   "metadata": {},
   "outputs": [
    {
     "name": "stdout",
     "output_type": "stream",
     "text": [
      "model:LahMysteriousSDXL_v355.safetensors\n",
      "pos_prompt:centered, face photography, face portrait, sexy woman, looking at viewer, aqua hair color, light blue eyes, short hair, | black hoodie, ultra wide angle shot, cinematic style,8k,RAW photo,photo-realistic,masterpiece,best quality,highres,extremely detailed,intricate details,absurdres resolution,High quality texture,detailed texture,vivid color,professional lighting,radiosity,photon mapping,physically-based rendering,High quality shadow,Ray tracing,perfect body,perfect face,perfect hands,Detailed beautiful delicate face,Detailed beautiful delicate eyes,hdr,Multiple layers of silhouette Marshlands,with silhouette of Fjord,sharp edges,at sunset,with heavy fog in air,vector style,horizon silhouette Landscape wallpaper by Alena Aenami,firewatch game style,vector style background,\n",
      "neg_prompt:bad_pictures,verybadimagenegative_v1.3,EasyNegative:2,bad_prompt_version2,badhandv4,ng_deepnegative_v1_75t,fused fingers,too many fingers,Low quality fingers,Six fingers,extra fingers,mutation,By bad artist,malformed limbs,missing legs,extra arms,missing arms,extra legs,extra limbs,bad feet,mutilated,mutated hands,abdominal muscle,Belly button,long neck,watermark,text,error,blurry,jpeg artifacts,cropped,worst quality,low quality,normal quality,low quality,signature,username,artist name,signature,text,contact,3d,monochrome,sketches,blurry,ugly,duplicate,deformed,blurry,dehydrated,cloned face,disfigured,\n"
     ]
    }
   ],
   "source": [
    "filename=r'F:\\Coding\\PythonProjects\\ImageProcessScripts\\img\\00189-145572448.png'\n",
    "filename2=r'F:\\Coding\\PythonProjects\\ImageProcessScripts\\img\\SDXL__00001_.png'\n",
    "    \n",
    "model,pos_prompt,neg_prompt=comfy_ui_png_info(filename2)\n",
    "print(f'model:{model}\\npos_prompt:{pos_prompt}\\nneg_prompt:{neg_prompt}')"
   ]
  },
  {
   "cell_type": "code",
   "execution_count": 23,
   "metadata": {},
   "outputs": [
    {
     "name": "stdout",
     "output_type": "stream",
     "text": [
      "a 20 y.o russian pretty model, (a girl lying down on bed, a girl , spread her  legs, pretty pussy, open up,half-naked ),wear silk pink|white wet cape, brown|black|purple short hair, black lace stocking, necklace, soft lighting, high resolution,professional grade,RAW photography,evocative composition,(freckles:0.7),sexy,cinematic_angle,from_above,perfect eyes,\n"
     ]
    }
   ],
   "source": [
    "# for SD-web-ui\n",
    "#parameters=im.info.get('parameters',None)\n",
    "png_info_dict=get_prompt_png(filename)\n",
    "print(png_info_dict[\"input_prompt\"])"
   ]
  },
  {
   "cell_type": "code",
   "execution_count": 24,
   "metadata": {},
   "outputs": [
    {
     "data": {
      "text/plain": [
       "{'filename': 'F:\\\\Coding\\\\PythonProjects\\\\ImageProcessScripts\\\\img\\\\00189-145572448.png',\n",
       " 'input_prompt': 'a 20 y.o russian pretty model, (a girl lying down on bed, a girl , spread her  legs, pretty pussy, open up,half-naked ),wear silk pink|white wet cape, brown|black|purple short hair, black lace stocking, necklace, soft lighting, high resolution,professional grade,RAW photography,evocative composition,(freckles:0.7),sexy,cinematic_angle,from_above,perfect eyes,',\n",
       " 'negative_prompt': ' (worst quality, low quality, illustration, 3d, 2d, painting, cartoons, sketch),bad hands,too many fingers,fused fingers,mutated hands and fingers,malformed hands,extra legs,missing fingers,poorly drawn hands,mutated hands,malformed limbs,missing limb,floating limbs,disconnected limbs,bad feet,long body,bad body,extra arms,extra limb,pubic hair,text,',\n",
       " 'Steps': '20',\n",
       " 'Sampler': 'DPM++ 2M',\n",
       " 'Schedule type': 'Karras',\n",
       " 'CFG scale': '7',\n",
       " 'Seed': '145572448',\n",
       " 'Size': '1280x720',\n",
       " 'Model hash': '18f7ae7774',\n",
       " 'Model': 'iniverseMixXLSFWNSFW_v75Real',\n",
       " 'Version': 'v1.9.4',\n",
       " 'postprocessing': None,\n",
       " 'extras': None,\n",
       " 'width': 1280,\n",
       " 'height': 720}"
      ]
     },
     "execution_count": 24,
     "metadata": {},
     "output_type": "execute_result"
    }
   ],
   "source": [
    "png_info_dict"
   ]
  },
  {
   "cell_type": "code",
   "execution_count": 19,
   "metadata": {},
   "outputs": [],
   "source": [
    "png_file=r'F:\\Coding\\PythonProjects\\ImageProcessScripts\\img\\00189-145572448.png'\n",
    "im = Image.open(png_file)\n",
    "im.load()  # Needed only for .png EXIF data (see citation above)\n",
    "parameters=im.info.get('parameters',None)\n",
    "input_paras=parameters.split('\\n')"
   ]
  },
  {
   "cell_type": "code",
   "execution_count": 20,
   "metadata": {},
   "outputs": [
    {
     "data": {
      "text/plain": [
       "['a 20 y.o russian pretty model, (a girl lying down on bed, a girl , spread her  legs, pretty pussy, open up,half-naked ),wear silk pink|white wet cape, brown|black|purple short hair, black lace stocking, necklace, soft lighting, high resolution,professional grade,RAW photography,evocative composition,(freckles:0.7),sexy,cinematic_angle,from_above,perfect eyes,',\n",
       " 'Negative prompt: (worst quality, low quality, illustration, 3d, 2d, painting, cartoons, sketch),bad hands,too many fingers,fused fingers,mutated hands and fingers,malformed hands,extra legs,missing fingers,poorly drawn hands,mutated hands,malformed limbs,missing limb,floating limbs,disconnected limbs,bad feet,long body,bad body,extra arms,extra limb,pubic hair,text,',\n",
       " 'Steps: 20, Sampler: DPM++ 2M, Schedule type: Karras, CFG scale: 7, Seed: 145572448, Size: 1280x720, Model hash: 18f7ae7774, Model: iniverseMixXLSFWNSFW_v75Real, Version: v1.9.4']"
      ]
     },
     "execution_count": 20,
     "metadata": {},
     "output_type": "execute_result"
    }
   ],
   "source": [
    "input_paras"
   ]
  }
 ],
 "metadata": {
  "kernelspec": {
   "display_name": "MLAEnv",
   "language": "python",
   "name": "python3"
  },
  "language_info": {
   "codemirror_mode": {
    "name": "ipython",
    "version": 3
   },
   "file_extension": ".py",
   "mimetype": "text/x-python",
   "name": "python",
   "nbconvert_exporter": "python",
   "pygments_lexer": "ipython3",
   "version": "3.11.0"
  },
  "orig_nbformat": 4
 },
 "nbformat": 4,
 "nbformat_minor": 2
}
