{
 "cells": [
  {
   "cell_type": "code",
   "execution_count": 1,
   "metadata": {},
   "outputs": [
    {
     "name": "stdout",
     "output_type": "stream",
     "text": [
      "Using TensorFlow backend\n",
      "img:../img/018.png\n",
      "nsfw predict:13.30%\n",
      "img:../img/00037.png\n",
      "nsfw predict:99.77%\n",
      "img:../img/00198-3869624274.png\n",
      "nsfw predict:56.68%\n",
      "img:../img/0110.png\n",
      "nsfw predict:99.92%\n",
      "img:../img/7E184712666.jpg\n",
      "nsfw predict:96.60%\n",
      "img:../img/6F184712202.jpg\n",
      "nsfw predict:73.05%\n",
      "img:../img/1B92928877.jpg\n",
      "nsfw predict:73.94%\n",
      "img:../img/50164932965.jpg\n",
      "nsfw predict:68.98%\n",
      "img:../img/CB153719649.jpg\n",
      "nsfw predict:93.34%\n",
      "img:../img/51.jpg\n",
      "nsfw predict:51.50%\n",
      "img:../img/SDXL_2x_00540_.png\n",
      "nsfw predict:17.12%\n",
      "img:../img/00072-1960626877.png\n",
      "nsfw predict:0.21%\n"
     ]
    }
   ],
   "source": [
    "import opennsfw2 as n2\n",
    "\n",
    "# To get the NSFW probability of a single image.\n",
    "image_path = r\"../img/018.png\"\n",
    "\n",
    "nsfw_probability = n2.predict_image(image_path)\n",
    "print(f'img:{image_path}\\nnsfw predict:{nsfw_probability*100:.2f}%')\n",
    "\n",
    "# To get the NSFW probabilities of a list of images.\n",
    "# This is better than looping with `predict_image` as the model will only be instantiated once\n",
    "# and batching is used during inference.\n",
    "image_paths = [\n",
    "  r\"../img/00037.png\",\n",
    "  r\"../img/00198-3869624274.png\",\n",
    "  r\"../img/0110.png\",\n",
    "  r\"../img/7E184712666.jpg\",\n",
    "  r\"../img/6F184712202.jpg\",\n",
    "  r\"../img/1B92928877.jpg\",\n",
    "  r\"../img/50164932965.jpg\",\n",
    "  r\"../img/CB153719649.jpg\",\n",
    "  r\"../img/51.jpg\",\n",
    "  r\"../img/SDXL_2x_00540_.png\",\n",
    "  r\"../img/00072-1960626877.png\"\n",
    "  # ...\n",
    "]\n",
    "\n",
    "nsfw_probabilities = n2.predict_images(image_paths)\n",
    "for image_path, nsfw_probability in zip(image_paths, nsfw_probabilities):\n",
    "    print(f'img:{image_path}\\nnsfw predict:{nsfw_probability*100:.2f}%')"
   ]
  }
 ],
 "metadata": {
  "kernelspec": {
   "display_name": "MLAEnv",
   "language": "python",
   "name": "python3"
  },
  "language_info": {
   "codemirror_mode": {
    "name": "ipython",
    "version": 3
   },
   "file_extension": ".py",
   "mimetype": "text/x-python",
   "name": "python",
   "nbconvert_exporter": "python",
   "pygments_lexer": "ipython3",
   "version": "3.11.0"
  },
  "orig_nbformat": 4
 },
 "nbformat": 4,
 "nbformat_minor": 2
}
