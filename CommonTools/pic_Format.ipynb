{
 "cells": [
  {
   "cell_type": "code",
   "execution_count": 13,
   "metadata": {},
   "outputs": [],
   "source": [
    "import os,sys,time\n",
    "from PIL import Image\n",
    "import matplotlib.cm as cm\n",
    "import matplotlib.pyplot as plt\n",
    "import numpy as np"
   ]
  },
  {
   "cell_type": "code",
   "execution_count": 16,
   "metadata": {},
   "outputs": [
    {
     "data": {
      "text/plain": [
       "<Figure size 2000x1000 with 0 Axes>"
      ]
     },
     "metadata": {},
     "output_type": "display_data"
    }
   ],
   "source": [
    "pic_folder=r'E:\\Open_pics\\FlightAttendance'\n",
    "pic_list=[pic for pic in os.listdir(pic_folder) if pic.endswith('.jpg') or pic.endswith('.png') or pic.endswith('.jpeg')]\n",
    "webp_list=[pic for pic in os.listdir(pic_folder) if pic.endswith('.webp')]\n",
    "plt.figure(figsize=(20,10))\n",
    "im=Image.open(os.path.join(pic_folder,webp_list[0]))\n",
    "img_array=np.asarray(im)\n",
    "im.save(os.path.join(pic_folder,webp_list[0].replace('.webp','.jpg')))"
   ]
  },
  {
   "cell_type": "code",
   "execution_count": 17,
   "metadata": {},
   "outputs": [],
   "source": [
    "def webp_to_jpg(pic_folder):\n",
    "    for pic in os.listdir(pic_folder):\n",
    "        if pic.endswith('.webp'):\n",
    "            im=Image.open(os.path.join(pic_folder,pic))\n",
    "            im.save(os.path.join(pic_folder,pic.replace('.webp','.jpg')))"
   ]
  },
  {
   "cell_type": "code",
   "execution_count": 19,
   "metadata": {},
   "outputs": [],
   "source": [
    "webp_to_jpg(pic_folder)"
   ]
  },
  {
   "cell_type": "code",
   "execution_count": 21,
   "metadata": {},
   "outputs": [
    {
     "data": {
      "text/plain": [
       "'40181529947.webp'"
      ]
     },
     "execution_count": 21,
     "metadata": {},
     "output_type": "execute_result"
    }
   ],
   "source": [
    "p0='https://www.xrmn02.top/uploadfile/202303/14/40181529947.webp'\n",
    "os.path.basename(p0)"
   ]
  }
 ],
 "metadata": {
  "kernelspec": {
   "display_name": "Python 3",
   "language": "python",
   "name": "python3"
  },
  "language_info": {
   "codemirror_mode": {
    "name": "ipython",
    "version": 3
   },
   "file_extension": ".py",
   "mimetype": "text/x-python",
   "name": "python",
   "nbconvert_exporter": "python",
   "pygments_lexer": "ipython3",
   "version": "3.11.0"
  }
 },
 "nbformat": 4,
 "nbformat_minor": 2
}
