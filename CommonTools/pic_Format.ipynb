{
 "cells": [
  {
   "cell_type": "code",
   "execution_count": 13,
   "metadata": {},
   "outputs": [],
   "source": [
    "import os,sys,time\n",
    "from PIL import Image\n",
    "import matplotlib.cm as cm\n",
    "import matplotlib.pyplot as plt\n",
    "import numpy as np"
   ]
  },
  {
   "cell_type": "code",
   "execution_count": 16,
   "metadata": {},
   "outputs": [
    {
     "data": {
      "text/plain": [
       "<Figure size 2000x1000 with 0 Axes>"
      ]
     },
     "metadata": {},
     "output_type": "display_data"
    }
   ],
   "source": [
    "pic_folder=r'E:\\Open_pics\\FlightAttendance'\n",
    "pic_list=[pic for pic in os.listdir(pic_folder) if pic.endswith('.jpg') or pic.endswith('.png') or pic.endswith('.jpeg')]\n",
    "webp_list=[pic for pic in os.listdir(pic_folder) if pic.endswith('.webp')]\n",
    "plt.figure(figsize=(20,10))\n",
    "im=Image.open(os.path.join(pic_folder,webp_list[0]))\n",
    "img_array=np.asarray(im)\n",
    "im.save(os.path.join(pic_folder,webp_list[0].replace('.webp','.jpg')))"
   ]
  },
  {
   "cell_type": "code",
   "execution_count": 17,
   "metadata": {},
   "outputs": [],
   "source": [
    "def webp_to_jpg(pic_folder):\n",
    "    for pic in os.listdir(pic_folder):\n",
    "        if pic.endswith('.webp'):\n",
    "            im=Image.open(os.path.join(pic_folder,pic))\n",
    "            im.save(os.path.join(pic_folder,pic.replace('.webp','.jpg')))"
   ]
  },
  {
   "cell_type": "code",
   "execution_count": 19,
   "metadata": {},
   "outputs": [],
   "source": [
    "webp_to_jpg(pic_folder)"
   ]
  },
  {
   "cell_type": "code",
   "execution_count": 21,
   "metadata": {},
   "outputs": [
    {
     "data": {
      "text/plain": [
       "'40181529947.webp'"
      ]
     },
     "execution_count": 21,
     "metadata": {},
     "output_type": "execute_result"
    }
   ],
   "source": [
    "p0='https://www.xrmn02.top/uploadfile/202303/14/40181529947.webp'\n",
    "os.path.basename(p0)"
   ]
  },
  {
   "cell_type": "code",
   "execution_count": 2,
   "metadata": {},
   "outputs": [],
   "source": [
    "import subprocess,os\n",
    "\n",
    "def ffmpeg_cut_mp4(input_file, output_file, start_time, duration):\n",
    "    \"\"\"\n",
    "    使用FFmpeg从源媒体中剪切视频。\n",
    "\n",
    "    参数:\n",
    "    input_file (str): 输入视频文件的路径。\n",
    "    output_file (str): 输出视频文件的路径。\n",
    "    start_time (str): 剪切开始时间，格式为 \"HH:MM:SS\"。\n",
    "    duration (str): 剪切持续时间，格式为 \"HH:MM:SS\"。\n",
    "    \"\"\"\n",
    "    command = [\n",
    "        'ffmpeg',\n",
    "        '-i', input_file,\n",
    "        '-ss', start_time,\n",
    "        '-t', duration,\n",
    "        '-c', 'copy',\n",
    "        output_file\n",
    "    ]\n",
    "    subprocess.run(command, check=True)\n"
   ]
  },
  {
   "cell_type": "code",
   "execution_count": 4,
   "metadata": {},
   "outputs": [],
   "source": [
    "input_folder=r'J:\\XImgs'\n",
    "input_mp4='J:\\XImgs\\Game.of.Thrones.S05E07.mp4'\n",
    "folder,filename=os.path.split(input_mp4)\n",
    "output_file=os.path.join(input_folder,os.path.splitext(filename)[0]+'_cut.mp4')\n",
    "start_time='00:40:00'\n",
    "duration='00:3:40'\n",
    "ffmpeg_cut_mp4(input_mp4, output_file, start_time, duration)"
   ]
  },
  {
   "cell_type": "code",
   "execution_count": 5,
   "metadata": {},
   "outputs": [],
   "source": [
    "def ffmpeg_extract_frames(video_path, output_folder,fps=10):\n",
    "    # 确保输出文件夹存在\n",
    "    if not os.path.exists(output_folder):\n",
    "        os.makedirs(output_folder)\n",
    "\n",
    "    # 构建FFmpeg命令\n",
    "    command = [\n",
    "        'ffmpeg',\n",
    "        '-i', video_path,  # 输入视频文件\n",
    "        '-vf', f'fps={fps}',  # 每秒提取一帧\n",
    "        os.path.join(output_folder, 'frame_%04d.png')  # 输出文件名格式\n",
    "    ]\n",
    "\n",
    "    # 执行FFmpeg命令\n",
    "    subprocess.run(command, check=True)"
   ]
  },
  {
   "cell_type": "code",
   "execution_count": 6,
   "metadata": {},
   "outputs": [],
   "source": [
    "video_path = os.path.abspath(r'J:\\XImgs\\Game.of.Thrones.S05E07_cut.mp4')\n",
    "output_folder = os.path.join(os.path.dirname(video_path), 'frames')\n",
    "ffmpeg_extract_frames(video_path, output_folder,10)"
   ]
  }
 ],
 "metadata": {
  "kernelspec": {
   "display_name": "Python 3",
   "language": "python",
   "name": "python3"
  },
  "language_info": {
   "codemirror_mode": {
    "name": "ipython",
    "version": 3
   },
   "file_extension": ".py",
   "mimetype": "text/x-python",
   "name": "python",
   "nbconvert_exporter": "python",
   "pygments_lexer": "ipython3",
   "version": "3.11.0"
  }
 },
 "nbformat": 4,
 "nbformat_minor": 2
}
